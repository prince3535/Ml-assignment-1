{
 "cells": [
  {
   "cell_type": "markdown",
   "metadata": {},
   "source": [
    "# python assignment 4"
   ]
  },
  {
   "cell_type": "markdown",
   "metadata": {},
   "source": [
    "1.1 Write a Python Program(with class concepts) to find the area of the triangle using the below formula.\n",
    "area = (s(s-a)(s-b)*(s-c)) ** 0.5\n",
    "Function to take the length of the sides of triangle from user should be defined in the parent class and function to calculate the area should be defined in subclass."
   ]
  },
  {
   "cell_type": "code",
   "execution_count": 1,
   "metadata": {},
   "outputs": [
    {
     "name": "stdout",
     "output_type": "stream",
     "text": [
      "enter the first side of triangle : 6\n",
      "enter the second sides of triangle : 7\n",
      "enter the third sides of triangle : 8\n",
      "20.33316256758894\n"
     ]
    }
   ],
   "source": [
    "class value:\n",
    "    def __init__(self,a,b,c):\n",
    "        self.a=a\n",
    "        self.b=b\n",
    "        self.c=c\n",
    "        \n",
    "class area(value):\n",
    "    \n",
    "    def semi_perimeter(self):\n",
    "        s=(a+b+c)/2\n",
    "        area=(s*(s-a)*(s-b)*(s-c))**0.5\n",
    "        return (area)\n",
    "    \n",
    "    \n",
    "    \n",
    "a=float(input(\"enter the first side of triangle : \"))\n",
    "b=float(input(\"enter the second sides of triangle : \"))\n",
    "c=float(input(\"enter the third sides of triangle : \"))\n",
    "value(a,b,c)\n",
    "obj=area(a,b,c)\n",
    "area=obj.semi_perimeter()\n",
    "print(area)"
   ]
  },
  {
   "cell_type": "markdown",
   "metadata": {},
   "source": [
    "1.2 Write a function filter_long_words() that takes a list of words and an integer n and returns the list of words that are longer than n."
   ]
  },
  {
   "cell_type": "code",
   "execution_count": 2,
   "metadata": {},
   "outputs": [
    {
     "name": "stdout",
     "output_type": "stream",
     "text": [
      "enter the list of words seprated by white space  : hello prince srivastava\n",
      "enter an integer :3\n"
     ]
    },
    {
     "data": {
      "text/plain": [
       "['hello', 'prince', 'srivastava']"
      ]
     },
     "execution_count": 2,
     "metadata": {},
     "output_type": "execute_result"
    }
   ],
   "source": [
    "def filter_long_words(lst):\n",
    "    if len(lst)>n:\n",
    "        return lst\n",
    "lst=input(\"enter the list of words seprated by white space  : \").split()\n",
    "n=int(input(\"enter an integer :\"))\n",
    "list(filter(filter_long_words,lst))"
   ]
  },
  {
   "cell_type": "markdown",
   "metadata": {},
   "source": [
    "2.1 Write a Python program using function concept that maps list of words into a list of integers representing the lengths of the corresponding words.\n",
    "Hint: If a list [ ab,cde,erty] is passed on to the python function output should come as [2,3,4]\n",
    "Here 2,3 and 4 are the lengths of the words in the list."
   ]
  },
  {
   "cell_type": "code",
   "execution_count": 4,
   "metadata": {},
   "outputs": [
    {
     "name": "stdout",
     "output_type": "stream",
     "text": [
      "enter the words seprated by white space :what are you doing man\n"
     ]
    },
    {
     "data": {
      "text/plain": [
       "[4, 3, 3, 5, 3]"
      ]
     },
     "execution_count": 4,
     "metadata": {},
     "output_type": "execute_result"
    }
   ],
   "source": [
    "def len_of_words(item):\n",
    "    return(len(item))\n",
    "lst=input(\"enter the words seprated by white space :\").split()\n",
    "list(map(len_of_words,lst))"
   ]
  },
  {
   "cell_type": "markdown",
   "metadata": {},
   "source": [
    "2.2 Write a Python function which takes a character (i.e. a string of length 1) and returns True if it is a vowel, False otherwise."
   ]
  },
  {
   "cell_type": "code",
   "execution_count": 5,
   "metadata": {},
   "outputs": [
    {
     "name": "stdout",
     "output_type": "stream",
     "text": [
      "enter the alphabate to check it is a vowel or not :|a\n"
     ]
    },
    {
     "data": {
      "text/plain": [
       "True"
      ]
     },
     "execution_count": 5,
     "metadata": {},
     "output_type": "execute_result"
    }
   ],
   "source": [
    "def vowel(item):\n",
    "    if item == 'a'or item =='e' or item =='i'or item =='o'or item == 'u':\n",
    "        return True\n",
    "    else:\n",
    "        return False\n",
    "s=input(\"enter the alphabate to check it is a vowel or not :|\").lower()\n",
    "vowel(s)"
   ]
  },
  {
   "cell_type": "code",
   "execution_count": null,
   "metadata": {},
   "outputs": [],
   "source": []
  }
 ],
 "metadata": {
  "kernelspec": {
   "display_name": "Python 3",
   "language": "python",
   "name": "python3"
  },
  "language_info": {
   "codemirror_mode": {
    "name": "ipython",
    "version": 3
   },
   "file_extension": ".py",
   "mimetype": "text/x-python",
   "name": "python",
   "nbconvert_exporter": "python",
   "pygments_lexer": "ipython3",
   "version": "3.7.6"
  }
 },
 "nbformat": 4,
 "nbformat_minor": 4
}
