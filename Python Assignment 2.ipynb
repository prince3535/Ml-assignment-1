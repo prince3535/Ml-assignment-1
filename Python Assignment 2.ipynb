{
 "cells": [
  {
   "cell_type": "markdown",
   "metadata": {},
   "source": [
    "# TASK 1"
   ]
  },
  {
   "cell_type": "markdown",
   "metadata": {},
   "source": [
    "1.1  Write a python program to implement your own myreduce() function which works exaclty like python's built-in function reduce()."
   ]
  },
  {
   "cell_type": "code",
   "execution_count": 2,
   "metadata": {},
   "outputs": [
    {
     "name": "stdout",
     "output_type": "stream",
     "text": [
      "127\n"
     ]
    }
   ],
   "source": [
    "def myreduce(f,seq):\n",
    "    first=seq[0]\n",
    "    for i in seq[1:]:\n",
    "        first=f(first,i)\n",
    "    return first\n",
    " \n",
    "#sum function\n",
    "def sum(a,b):\n",
    "    return a+b\n",
    "x=[10,23,13,36,45]\n",
    "print(myreduce(sum,x))\n"
   ]
  },
  {
   "cell_type": "code",
   "execution_count": 3,
   "metadata": {},
   "outputs": [
    {
     "name": "stdout",
     "output_type": "stream",
     "text": [
      "45\n"
     ]
    }
   ],
   "source": [
    "def trial(a,b):\n",
    "    if a>b:\n",
    "        return a\n",
    "    else:\n",
    "        return b\n",
    "print(myreduce(trial,x))"
   ]
  },
  {
   "cell_type": "markdown",
   "metadata": {},
   "source": [
    "1.2 Write a python program to implement your own myfilter() function which works exaclty like python's built-in function filter()."
   ]
  },
  {
   "cell_type": "code",
   "execution_count": 4,
   "metadata": {},
   "outputs": [
    {
     "name": "stdout",
     "output_type": "stream",
     "text": [
      "[2, 4, 6, 8, 10, 12, 14, 16]\n"
     ]
    }
   ],
   "source": [
    "def myfilter(f,seq):\n",
    "    x=[]\n",
    "    for i in seq:\n",
    "        if f(i):\n",
    "            x.append(i)\n",
    "    return x\n",
    "    \n",
    "def iseven(num):\n",
    "    if num%2==0:\n",
    "        return True\n",
    "    else:\n",
    "        return False\n",
    "    \n",
    "x=[1,2,3,4,5,6,7,8,9,10,11,12,13,14,15,16]\n",
    "print(myfilter(iseven,x))  "
   ]
  },
  {
   "cell_type": "markdown",
   "metadata": {},
   "source": [
    "Q2.implement list comprehension to produce the following lists. write list comprehension to produce following list\n",
    " #output ['A', 'C', 'A', 'D', 'G', 'I', 'L', 'D']\n",
    "#output['x','xx','xxx','xxxx','y','yy','yyy','yyyy','z','zz','zzz','zzzz']\n",
    "#output ['x','y','z','xx','yy','zz','xxx','yyy','zzz','xxxx','yyyy','zzzz']"
   ]
  },
  {
   "cell_type": "code",
   "execution_count": 1,
   "metadata": {},
   "outputs": [
    {
     "name": "stdout",
     "output_type": "stream",
     "text": [
      "['A', 'C', 'A', 'D', 'G', 'I', 'L', 'D']\n",
      "['x', 'xx', 'xxx', 'xxxx', 'y', 'yy', 'yyy', 'yyyy', 'z', 'zz', 'zzz', 'zzzz']\n",
      "['x', 'y', 'z', 'xx', 'yy', 'zz', 'xxx', 'yyy', 'zzz', 'xxxx', 'yyyy', 'zzzz']\n"
     ]
    }
   ],
   "source": [
    "l = [i for i in 'ACADGILD']\n",
    "print(l)\n",
    "\n",
    "l=['x','y','z']\n",
    "out_l=[ i*n for i in l for n in range(1,5)]\n",
    "print(out_l)\n",
    "\n",
    "lst = ['x','y','z']\n",
    "out_lst = [ i*n for n in range(1,5) for i in lst  ]\n",
    "print(out_lst)"
   ]
  },
  {
   "cell_type": "code",
   "execution_count": 6,
   "metadata": {},
   "outputs": [
    {
     "name": "stdout",
     "output_type": "stream",
     "text": [
      "[[2], [3], [4], [3], [4], [5], [4], [5], [6]]\n",
      "[[2, 3, 4, 5], [3, 4, 5, 6], [4, 5, 6, 7], [5, 6, 7, 8]]\n",
      "[(1, 1), (1, 2), (1, 3), (2, 1), (2, 2), (2, 3), (3, 1), (3, 2), (3, 3)]\n"
     ]
    }
   ],
   "source": [
    "# Output1-[[2], [3], [4], [3], [4], [5], [4], [5], [6]] \n",
    "# Output2-[[2, 3, 4, 5], [3, 4, 5, 6],[4, 5, 6, 7], [5, 6, 7, 8]]\n",
    "#[(1, 1), (2, 1), (3, 1), (1, 2), (2, 2), (3, 2), (1, 3), (2, 3), (3, 3)]\n",
    "#SOLUTION\n",
    "\n",
    "l1 = [2,3,4]\n",
    "out_l1 = [ [i+n] for i in l1 for n in range(0,3)]\n",
    "print(out_l1)\n",
    "l2 = [2,3,4,5]\n",
    "out_l2 = [ [i+n for i in l2] for n in range(0,4)  ]\n",
    "print(out_l2)\n",
    "\n",
    "lst=[1,2,3]\n",
    "out_lst = [ (i,n) for i in lst for n in lst]\n",
    "print(out_lst)"
   ]
  },
  {
   "cell_type": "markdown",
   "metadata": {},
   "source": [
    " Q3 .implement a function longestword() that takes a list of word and return the longest one"
   ]
  },
  {
   "cell_type": "code",
   "execution_count": 26,
   "metadata": {},
   "outputs": [
    {
     "name": "stdout",
     "output_type": "stream",
     "text": [
      "Please input a list of words to evaluate: life is not important\n",
      "The longest word is important\n"
     ]
    }
   ],
   "source": [
    "def longest_word():\n",
    "    text = input(\"Please input a list of words to evaluate: \")\n",
    "\n",
    "    longest = 0\n",
    "\n",
    "    for words in text.split():\n",
    "        if len(words) > longest:\n",
    "            longest = len(words)\n",
    "            longest_word = words\n",
    "\n",
    "    print(\"The longest word is\", longest_word)\n",
    "\n",
    "longest_word()  \n"
   ]
  },
  {
   "cell_type": "markdown",
   "metadata": {},
   "source": [
    "# Task 2"
   ]
  },
  {
   "cell_type": "markdown",
   "metadata": {},
   "source": [
    "1.1 Write a Python Program(with class concepts) to find the area of the triangle using the below formula. area = (s(s-a)(s-b)(s-c)) * 0.5 Function to take the length of the sides of triangle from user should be defined in the parent class and function to calculate the area should be defined in subclass."
   ]
  },
  {
   "cell_type": "code",
   "execution_count": 7,
   "metadata": {},
   "outputs": [
    {
     "name": "stdout",
     "output_type": "stream",
     "text": [
      "enter the first side of triangle : 34\n",
      "enter the second sides of triangle : 35\n",
      "enter the third sides of triangle : 36\n",
      "529.5738262980904\n"
     ]
    }
   ],
   "source": [
    "class value:\n",
    "    def __init__(self,a,b,c):\n",
    "        self.a=a\n",
    "        self.b=b\n",
    "        self.c=c\n",
    "        \n",
    "class area(value):\n",
    "    \n",
    "    def semi_perimeter(self):\n",
    "        s=(a+b+c)/2\n",
    "        area=(s*(s-a)*(s-b)*(s-c))**0.5\n",
    "        return (area)\n",
    "    \n",
    "    \n",
    "    \n",
    "a=float(input(\"enter the first side of triangle : \"))\n",
    "b=float(input(\"enter the second sides of triangle : \"))\n",
    "c=float(input(\"enter the third sides of triangle : \"))\n",
    "value(a,b,c)\n",
    "obj=area(a,b,c)\n",
    "area=obj.semi_perimeter()\n",
    "print(area)"
   ]
  },
  {
   "cell_type": "markdown",
   "metadata": {},
   "source": [
    "1.2 Write a function filter_long_words() that takes a list of words and an integer n and returns the list of words that are longer than n."
   ]
  },
  {
   "cell_type": "code",
   "execution_count": 8,
   "metadata": {},
   "outputs": [
    {
     "name": "stdout",
     "output_type": "stream",
     "text": [
      "enter the list of words seprated by white space  : MY NAME IS PRINCE SRIVASTAVA\n",
      "enter an integer :5\n"
     ]
    },
    {
     "data": {
      "text/plain": [
       "['PRINCE', 'SRIVASTAVA']"
      ]
     },
     "execution_count": 8,
     "metadata": {},
     "output_type": "execute_result"
    }
   ],
   "source": [
    "def filter_long_words(lst):\n",
    "    if len(lst)>n:\n",
    "        return lst\n",
    "lst=input(\"enter the list of words seprated by white space  : \").split()\n",
    "n=int(input(\"enter an integer :\"))\n",
    "list(filter(filter_long_words,lst))"
   ]
  },
  {
   "cell_type": "markdown",
   "metadata": {},
   "source": [
    "2.1 Write a Python program using function concept that maps list of words into a list of integers representing the lengths of the corresponding words. Hint: If a list [ ab,cde,erty] is passed on to the python function output should come as [2,3,4] Here 2,3 and 4 are the lengths of the words in the list."
   ]
  },
  {
   "cell_type": "code",
   "execution_count": 9,
   "metadata": {},
   "outputs": [
    {
     "name": "stdout",
     "output_type": "stream",
     "text": [
      "enter the words seprated by white space :HELLO BABA\n"
     ]
    },
    {
     "data": {
      "text/plain": [
       "[5, 4]"
      ]
     },
     "execution_count": 9,
     "metadata": {},
     "output_type": "execute_result"
    }
   ],
   "source": [
    "def len_of_words(item):\n",
    "    return(len(item))\n",
    "lst=input(\"enter the words seprated by white space :\").split()\n",
    "list(map(len_of_words,lst))"
   ]
  },
  {
   "cell_type": "markdown",
   "metadata": {},
   "source": [
    "2.2 Write a Python function which takes a character (i.e. a string of length 1) and returns True if it is a vowel, False otherwise."
   ]
  },
  {
   "cell_type": "code",
   "execution_count": 10,
   "metadata": {},
   "outputs": [
    {
     "name": "stdout",
     "output_type": "stream",
     "text": [
      "enter the alphabate to check it is a vowel or not :|A\n"
     ]
    },
    {
     "data": {
      "text/plain": [
       "True"
      ]
     },
     "execution_count": 10,
     "metadata": {},
     "output_type": "execute_result"
    }
   ],
   "source": [
    "def vowel(item):\n",
    "    if item == 'a'or item =='e' or item =='i'or item =='o'or item == 'u':\n",
    "        return True\n",
    "    else:\n",
    "        return False\n",
    "s=input(\"enter the alphabate to check it is a vowel or not :|\").lower()\n",
    "vowel(s)"
   ]
  },
  {
   "cell_type": "code",
   "execution_count": null,
   "metadata": {},
   "outputs": [],
   "source": []
  }
 ],
 "metadata": {
  "kernelspec": {
   "display_name": "Python 3",
   "language": "python",
   "name": "python3"
  },
  "language_info": {
   "codemirror_mode": {
    "name": "ipython",
    "version": 3
   },
   "file_extension": ".py",
   "mimetype": "text/x-python",
   "name": "python",
   "nbconvert_exporter": "python",
   "pygments_lexer": "ipython3",
   "version": "3.7.6"
  }
 },
 "nbformat": 4,
 "nbformat_minor": 4
}
