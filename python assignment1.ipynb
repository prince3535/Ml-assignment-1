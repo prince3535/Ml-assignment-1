{
 "cells": [
  {
   "cell_type": "markdown",
   "metadata": {},
   "source": [
    "# python assignment 1"
   ]
  },
  {
   "cell_type": "code",
   "execution_count": 1,
   "metadata": {},
   "outputs": [
    {
     "name": "stdout",
     "output_type": "stream",
     "text": [
      "this is my first python program\n"
     ]
    }
   ],
   "source": [
    "# solution \n",
    "print(\"this is my first python program\")"
   ]
  },
  {
   "cell_type": "markdown",
   "metadata": {},
   "source": [
    "Q2.write a program which will find all such numbers which are divide by 7 but are not multiple of 5, between 2000 and 3200 (both included) . the numbers obtained should be printed in a comma seperated sequences of single line."
   ]
  },
  {
   "cell_type": "code",
   "execution_count": 2,
   "metadata": {},
   "outputs": [
    {
     "name": "stdout",
     "output_type": "stream",
     "text": [
      "2002,2009,2016,2023,2037,2044,2051,2058,2072,2079,2086,2093,2107,2114,2121,2128,2142,2149,2156,2163,2177,2184,2191,2198,2212,2219,2226,2233,2247,2254,2261,2268,2282,2289,2296,2303,2317,2324,2331,2338,2352,2359,2366,2373,2387,2394,2401,2408,2422,2429,2436,2443,2457,2464,2471,2478,2492,2499,2506,2513,2527,2534,2541,2548,2562,2569,2576,2583,2597,2604,2611,2618,2632,2639,2646,2653,2667,2674,2681,2688,2702,2709,2716,2723,2737,2744,2751,2758,2772,2779,2786,2793,2807,2814,2821,2828,2842,2849,2856,2863,2877,2884,2891,2898,2912,2919,2926,2933,2947,2954,2961,2968,2982,2989,2996,3003,3017,3024,3031,3038,3052,3059,3066,3073,3087,3094,3101,3108,3122,3129,3136,3143,3157,3164,3171,3178,3192,3199,"
     ]
    }
   ],
   "source": [
    "for i in range(2000,3200):\n",
    "    if (i%7==0 and i%5!=0):\n",
    "        print(i,end=\",\")"
   ]
  },
  {
   "cell_type": "markdown",
   "metadata": {},
   "source": [
    "Q3.write a python program to accept the user's first and last name and then getting them printted in the reverse order with a space between first name and last name"
   ]
  },
  {
   "cell_type": "code",
   "execution_count": 3,
   "metadata": {},
   "outputs": [
    {
     "name": "stdout",
     "output_type": "stream",
     "text": [
      "srivastava , Prince\n"
     ]
    }
   ],
   "source": [
    "# We can do this by two method, first is without user input and second is with user input.\n",
    "# A.\n",
    "fname=\"Prince\"\n",
    "lname=\"srivastava\"\n",
    "name=fname+lname\n",
    "print(name[6:],\",\",name[:6])"
   ]
  },
  {
   "cell_type": "code",
   "execution_count": 4,
   "metadata": {},
   "outputs": [
    {
     "name": "stdout",
     "output_type": "stream",
     "text": [
      "enter first nameprince\n",
      "enter second namesrivastava\n",
      "final required output is: srivastava , prince\n"
     ]
    }
   ],
   "source": [
    "# B part of the above program \n",
    "fname=input(\"enter first name\")\n",
    "lname=input(\"enter second name\")\n",
    "name=fname+lname\n",
    "a=len(fname)\n",
    "print(\"final required output is:\",name[a:],\",\",name[:a])"
   ]
  },
  {
   "cell_type": "markdown",
   "metadata": {},
   "source": [
    "Q4. write a python program to find volume of the sphare with diemeter 12cm. formula v=(4/3)(22/7)r**3."
   ]
  },
  {
   "cell_type": "code",
   "execution_count": 5,
   "metadata": {},
   "outputs": [
    {
     "name": "stdout",
     "output_type": "stream",
     "text": [
      "volume of sphare is: 905.142857142857\n"
     ]
    }
   ],
   "source": [
    "d=12        #d shows the diemeter\n",
    "r=d/2       #r shows the radious\n",
    "v=(4/3)*(22/7)*r**3  # v shows volume of sphare\n",
    "print(\"volume of sphare is:\",v)"
   ]
  },
  {
   "cell_type": "markdown",
   "metadata": {},
   "source": [
    "# Task2"
   ]
  },
  {
   "cell_type": "markdown",
   "metadata": {},
   "source": [
    "Q1. writw a python program which accept a sequence of comma - seperated numbers from console and generate a list."
   ]
  },
  {
   "cell_type": "code",
   "execution_count": 7,
   "metadata": {},
   "outputs": [
    {
     "name": "stdout",
     "output_type": "stream",
     "text": [
      "input some comma seperated number : 3,4,5,6,7\n",
      "list : ['3', '4', '5', '6', '7']\n"
     ]
    }
   ],
   "source": [
    "#solution\n",
    "numbers= input(\"input some comma seperated number : \")\n",
    "list=numbers.split(\",\")\n",
    "print(\"list :\",list)"
   ]
  },
  {
   "cell_type": "markdown",
   "metadata": {},
   "source": [
    "Q2. print the following pattern"
   ]
  },
  {
   "cell_type": "code",
   "execution_count": 8,
   "metadata": {},
   "outputs": [
    {
     "name": "stdout",
     "output_type": "stream",
     "text": [
      "* \n",
      "* * \n",
      "* * * \n",
      "* * * * \n",
      "* * * * * \n",
      "* * * * \n",
      "* * * \n",
      "* * \n",
      "* \n",
      "\n"
     ]
    }
   ],
   "source": [
    "n=5\n",
    "for i in range (0,n):\n",
    "    for j in range(0,i+1):\n",
    "        print(\"*\", end=\" \")\n",
    "    print()\n",
    "for i in range (n,0,-1):\n",
    "    for j in range(0,i-1):\n",
    "        print(\"*\", end=\" \")\n",
    "    print()"
   ]
  },
  {
   "cell_type": "markdown",
   "metadata": {},
   "source": [
    "Q3. write a python program to reverse a word after accepting the input from the user."
   ]
  },
  {
   "cell_type": "code",
   "execution_count": 9,
   "metadata": {},
   "outputs": [
    {
     "name": "stdout",
     "output_type": "stream",
     "text": [
      "input word AcadGlid\n",
      "output word: dilGdacA\n"
     ]
    }
   ],
   "source": [
    "a=input(\"input word \")\n",
    "print(\"output word:\",a[::-1])"
   ]
  },
  {
   "cell_type": "markdown",
   "metadata": {},
   "source": [
    "Q4. write a python program to print the given string in the format specified in the sample output."
   ]
  },
  {
   "cell_type": "code",
   "execution_count": 14,
   "metadata": {},
   "outputs": [
    {
     "name": "stdout",
     "output_type": "stream",
     "text": [
      "WE , THE PEOPLE OF INDIA ,\n",
      "\t having solemnly resolved to constitute india into a sSOVEREIGN,!\n",
      "\t\t SOCIALIST,SECULAR,DEMOCRATIC REPULIC\n",
      "\t\t and to secure to all its citizens\n"
     ]
    }
   ],
   "source": [
    "print(\"WE , THE PEOPLE OF INDIA ,\\n\\t having solemnly resolved to constitute india into a sSOVEREIGN,!\\n\\t\\t SOCIALIST,SECULAR,DEMOCRATIC REPULIC\\n\\t\\t and to secure to all its citizens\")"
   ]
  },
  {
   "cell_type": "code",
   "execution_count": null,
   "metadata": {},
   "outputs": [],
   "source": []
  }
 ],
 "metadata": {
  "kernelspec": {
   "display_name": "Python 3",
   "language": "python",
   "name": "python3"
  },
  "language_info": {
   "codemirror_mode": {
    "name": "ipython",
    "version": 3
   },
   "file_extension": ".py",
   "mimetype": "text/x-python",
   "name": "python",
   "nbconvert_exporter": "python",
   "pygments_lexer": "ipython3",
   "version": "3.7.6"
  }
 },
 "nbformat": 4,
 "nbformat_minor": 4
}
